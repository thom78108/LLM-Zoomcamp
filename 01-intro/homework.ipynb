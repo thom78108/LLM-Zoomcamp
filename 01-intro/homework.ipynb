{
 "cells": [
  {
   "cell_type": "code",
   "execution_count": 1,
   "id": "75e117e8-97fd-49c6-9c8d-8c21ede6b733",
   "metadata": {},
   "outputs": [],
   "source": [
    "import openai"
   ]
  },
  {
   "cell_type": "code",
   "execution_count": 2,
   "id": "62871da3-a918-431c-97ce-996e364c21a8",
   "metadata": {},
   "outputs": [],
   "source": [
    "from openai import OpenAI"
   ]
  },
  {
   "cell_type": "code",
   "execution_count": 3,
   "id": "bfa45663-5a7b-4b73-8c19-e512b1a18c7c",
   "metadata": {},
   "outputs": [],
   "source": [
    "import os"
   ]
  },
  {
   "cell_type": "code",
   "execution_count": 7,
   "id": "d923d4b9-de15-4851-86df-44186c9d7204",
   "metadata": {},
   "outputs": [],
   "source": [
    "client = OpenAI(api_key = OPEN_API_KEY)"
   ]
  },
  {
   "cell_type": "code",
   "execution_count": 8,
   "id": "cea0d339-83de-40a9-a37a-ff7af3de55de",
   "metadata": {},
   "outputs": [],
   "source": [
    "response = client.chat.completions.create(\n",
    "    model = 'gpt-4o',\n",
    "    messages = [{\"role\" : \"user\", \"content\" : \"is it too late to join the course?\"}]\n",
    ")"
   ]
  },
  {
   "cell_type": "code",
   "execution_count": 9,
   "id": "4c37e227-7ea3-43f5-8e99-fa138222bb44",
   "metadata": {},
   "outputs": [
    {
     "data": {
      "text/plain": [
       "\"To provide a specific answer, I need more details about which course you're referring to. Factors such as enrollment deadlines, course start dates, and any prerequisites need to be considered. Check the course's official website or contact the institution offering it for the most accurate and timely information.\""
      ]
     },
     "execution_count": 9,
     "metadata": {},
     "output_type": "execute_result"
    }
   ],
   "source": [
    "response.choices[0].message.content"
   ]
  }
 ],
 "metadata": {
  "kernelspec": {
   "display_name": "Python 3 (ipykernel)",
   "language": "python",
   "name": "python3"
  },
  "language_info": {
   "codemirror_mode": {
    "name": "ipython",
    "version": 3
   },
   "file_extension": ".py",
   "mimetype": "text/x-python",
   "name": "python",
   "nbconvert_exporter": "python",
   "pygments_lexer": "ipython3",
   "version": "3.12.1"
  }
 },
 "nbformat": 4,
 "nbformat_minor": 5
}
